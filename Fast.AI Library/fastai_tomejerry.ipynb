{
 "cells": [
  {
   "cell_type": "code",
   "execution_count": null,
   "metadata": {},
   "outputs": [],
   "source": [
    "from fastai.vision import *\n",
    "import matplotlib.pyplot as plt # plotting\n",
    "import numpy as np # linear algebra\n",
    "import os # accessing directory structure\n",
    "import pandas as pd # data processing, CSV file I/O (e.g. pd.read_csv)\n",
    "import warnings\n",
    "warnings.simplefilter(\"ignore\")\n",
    "from fastai.callbacks import *"
   ]
  },
  {
   "cell_type": "code",
   "execution_count": null,
   "metadata": {},
   "outputs": [],
   "source": [
    "df = pd.read_csv('/home/g/gv53/smai/train.csv', delimiter=',')\n",
    "path = '/home/g/gv53/smai/ntrain'\n",
    "test_path = '/home/g/gv53/smai/ntest'\n",
    "\n",
    "#this code adds .jpg at the end of csv file because fastai requires df file in this format\n",
    "for i in range(len(df)):\n",
    "    a = df['image_file'][i] + '.jpg'\n",
    "    df['image_file'][i] = a"
   ]
  },
  {
   "cell_type": "code",
   "execution_count": null,
   "metadata": {},
   "outputs": [],
   "source": [
    "tfms = get_transforms()\n",
    "data = ImageDataBunch.from_df(path, df= df, ds_tfms=tfms, size=224, bs=32).normalize()\n",
    "print(\"Size of the image is\")\n",
    "print(data.one_batch()[0].size())\n",
    "print(data.classes)"
   ]
  },
  {
   "cell_type": "code",
   "execution_count": null,
   "metadata": {},
   "outputs": [],
   "source": [
    "learn = cnn_learner(data, models.v, metrics=accuracy)\n",
    "learn.lr_find()\n",
    "learn.recorder.plot()\n",
    "fig = learn.recorder.plot(return_fig=True)\n",
    "learn.fit_one_cycle(4)\n",
    "\n",
    "learn.fit_one_cycle(100,slice(1e-3,3e-4), pct_start=0.05)   \n",
    "learn.save('tom-resnet-grayscale')"
   ]
  },
  {
   "cell_type": "code",
   "execution_count": null,
   "metadata": {},
   "outputs": [],
   "source": [
    "interp = ClassificationInterpretation.from_learner(learn)\n",
    "losses,idxs = interp.top_losses()\n",
    "\n",
    "len(data.valid_ds)==len(losses)==len(idxs)\n",
    "\n",
    "interp.plot_top_losses(9, figsize=(15,11))\n",
    "plt.savefig('tom.png')\n",
    "\n",
    "interp.plot_confusion_matrix(figsize=(12,12), dpi=60)\n",
    "plt.savefig('confusion_matrix.png')\n",
    "print(accuracy(*learn.TTA()))\n",
    "interp.most_confused(min_val=2)"
   ]
  }
 ],
 "metadata": {
  "kernelspec": {
   "display_name": "Python 3",
   "language": "python",
   "name": "python3"
  },
  "language_info": {
   "codemirror_mode": {
    "name": "ipython",
    "version": 3
   },
   "file_extension": ".py",
   "mimetype": "text/x-python",
   "name": "python",
   "nbconvert_exporter": "python",
   "pygments_lexer": "ipython3",
   "version": "3.7.3"
  }
 },
 "nbformat": 4,
 "nbformat_minor": 4
}
